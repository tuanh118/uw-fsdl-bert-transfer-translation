{
  "nbformat": 4,
  "nbformat_minor": 0,
  "metadata": {
    "kernelspec": {
      "name": "python3",
      "display_name": "Python 3"
    },
    "colab": {
      "name": "Notebook.ipynb",
      "provenance": [],
      "toc_visible": true
    },
    "accelerator": "GPU",
    "widgets": {
      "application/vnd.jupyter.widget-state+json": {
        "c5d0701ac44648a29d80c3f38b54b0ba": {
          "model_module": "@jupyter-widgets/controls",
          "model_name": "HBoxModel",
          "state": {
            "_view_name": "HBoxView",
            "_dom_classes": [],
            "_model_name": "HBoxModel",
            "_view_module": "@jupyter-widgets/controls",
            "_model_module_version": "1.5.0",
            "_view_count": null,
            "_view_module_version": "1.5.0",
            "box_style": "",
            "layout": "IPY_MODEL_264fe64e1ada4224bfec637351bce7bb",
            "_model_module": "@jupyter-widgets/controls",
            "children": [
              "IPY_MODEL_f2adfc8f05b2405eb05a14381dad4600",
              "IPY_MODEL_ff3795560a5f45a695f209e49886c081"
            ]
          }
        },
        "264fe64e1ada4224bfec637351bce7bb": {
          "model_module": "@jupyter-widgets/base",
          "model_name": "LayoutModel",
          "state": {
            "_view_name": "LayoutView",
            "grid_template_rows": null,
            "right": null,
            "justify_content": null,
            "_view_module": "@jupyter-widgets/base",
            "overflow": null,
            "_model_module_version": "1.2.0",
            "_view_count": null,
            "flex_flow": null,
            "width": null,
            "min_width": null,
            "border": null,
            "align_items": null,
            "bottom": null,
            "_model_module": "@jupyter-widgets/base",
            "top": null,
            "grid_column": null,
            "overflow_y": null,
            "overflow_x": null,
            "grid_auto_flow": null,
            "grid_area": null,
            "grid_template_columns": null,
            "flex": null,
            "_model_name": "LayoutModel",
            "justify_items": null,
            "grid_row": null,
            "max_height": null,
            "align_content": null,
            "visibility": null,
            "align_self": null,
            "height": null,
            "min_height": null,
            "padding": null,
            "grid_auto_rows": null,
            "grid_gap": null,
            "max_width": null,
            "order": null,
            "_view_module_version": "1.2.0",
            "grid_template_areas": null,
            "object_position": null,
            "object_fit": null,
            "grid_auto_columns": null,
            "margin": null,
            "display": null,
            "left": null
          }
        },
        "f2adfc8f05b2405eb05a14381dad4600": {
          "model_module": "@jupyter-widgets/controls",
          "model_name": "FloatProgressModel",
          "state": {
            "_view_name": "ProgressView",
            "style": "IPY_MODEL_c4c1daaf0b5d4d9e9a0df7b9a55dbdf6",
            "_dom_classes": [],
            "description": "Downloading: 100%",
            "_model_name": "FloatProgressModel",
            "bar_style": "success",
            "max": 231508,
            "_view_module": "@jupyter-widgets/controls",
            "_model_module_version": "1.5.0",
            "value": 231508,
            "_view_count": null,
            "_view_module_version": "1.5.0",
            "orientation": "horizontal",
            "min": 0,
            "description_tooltip": null,
            "_model_module": "@jupyter-widgets/controls",
            "layout": "IPY_MODEL_8f5f03b413c243c899b42a436fb3b095"
          }
        },
        "ff3795560a5f45a695f209e49886c081": {
          "model_module": "@jupyter-widgets/controls",
          "model_name": "HTMLModel",
          "state": {
            "_view_name": "HTMLView",
            "style": "IPY_MODEL_8dcf0875da8b46d4a934f7fe0f480df4",
            "_dom_classes": [],
            "description": "",
            "_model_name": "HTMLModel",
            "placeholder": "​",
            "_view_module": "@jupyter-widgets/controls",
            "_model_module_version": "1.5.0",
            "value": " 232k/232k [00:00&lt;00:00, 246kB/s]",
            "_view_count": null,
            "_view_module_version": "1.5.0",
            "description_tooltip": null,
            "_model_module": "@jupyter-widgets/controls",
            "layout": "IPY_MODEL_f800be1b8d564a419e11f40d18d04693"
          }
        },
        "c4c1daaf0b5d4d9e9a0df7b9a55dbdf6": {
          "model_module": "@jupyter-widgets/controls",
          "model_name": "ProgressStyleModel",
          "state": {
            "_view_name": "StyleView",
            "_model_name": "ProgressStyleModel",
            "description_width": "initial",
            "_view_module": "@jupyter-widgets/base",
            "_model_module_version": "1.5.0",
            "_view_count": null,
            "_view_module_version": "1.2.0",
            "bar_color": null,
            "_model_module": "@jupyter-widgets/controls"
          }
        },
        "8f5f03b413c243c899b42a436fb3b095": {
          "model_module": "@jupyter-widgets/base",
          "model_name": "LayoutModel",
          "state": {
            "_view_name": "LayoutView",
            "grid_template_rows": null,
            "right": null,
            "justify_content": null,
            "_view_module": "@jupyter-widgets/base",
            "overflow": null,
            "_model_module_version": "1.2.0",
            "_view_count": null,
            "flex_flow": null,
            "width": null,
            "min_width": null,
            "border": null,
            "align_items": null,
            "bottom": null,
            "_model_module": "@jupyter-widgets/base",
            "top": null,
            "grid_column": null,
            "overflow_y": null,
            "overflow_x": null,
            "grid_auto_flow": null,
            "grid_area": null,
            "grid_template_columns": null,
            "flex": null,
            "_model_name": "LayoutModel",
            "justify_items": null,
            "grid_row": null,
            "max_height": null,
            "align_content": null,
            "visibility": null,
            "align_self": null,
            "height": null,
            "min_height": null,
            "padding": null,
            "grid_auto_rows": null,
            "grid_gap": null,
            "max_width": null,
            "order": null,
            "_view_module_version": "1.2.0",
            "grid_template_areas": null,
            "object_position": null,
            "object_fit": null,
            "grid_auto_columns": null,
            "margin": null,
            "display": null,
            "left": null
          }
        },
        "8dcf0875da8b46d4a934f7fe0f480df4": {
          "model_module": "@jupyter-widgets/controls",
          "model_name": "DescriptionStyleModel",
          "state": {
            "_view_name": "StyleView",
            "_model_name": "DescriptionStyleModel",
            "description_width": "",
            "_view_module": "@jupyter-widgets/base",
            "_model_module_version": "1.5.0",
            "_view_count": null,
            "_view_module_version": "1.2.0",
            "_model_module": "@jupyter-widgets/controls"
          }
        },
        "f800be1b8d564a419e11f40d18d04693": {
          "model_module": "@jupyter-widgets/base",
          "model_name": "LayoutModel",
          "state": {
            "_view_name": "LayoutView",
            "grid_template_rows": null,
            "right": null,
            "justify_content": null,
            "_view_module": "@jupyter-widgets/base",
            "overflow": null,
            "_model_module_version": "1.2.0",
            "_view_count": null,
            "flex_flow": null,
            "width": null,
            "min_width": null,
            "border": null,
            "align_items": null,
            "bottom": null,
            "_model_module": "@jupyter-widgets/base",
            "top": null,
            "grid_column": null,
            "overflow_y": null,
            "overflow_x": null,
            "grid_auto_flow": null,
            "grid_area": null,
            "grid_template_columns": null,
            "flex": null,
            "_model_name": "LayoutModel",
            "justify_items": null,
            "grid_row": null,
            "max_height": null,
            "align_content": null,
            "visibility": null,
            "align_self": null,
            "height": null,
            "min_height": null,
            "padding": null,
            "grid_auto_rows": null,
            "grid_gap": null,
            "max_width": null,
            "order": null,
            "_view_module_version": "1.2.0",
            "grid_template_areas": null,
            "object_position": null,
            "object_fit": null,
            "grid_auto_columns": null,
            "margin": null,
            "display": null,
            "left": null
          }
        },
        "27ce16afd2b24b4e83e8c6f4c01132f5": {
          "model_module": "@jupyter-widgets/controls",
          "model_name": "HBoxModel",
          "state": {
            "_view_name": "HBoxView",
            "_dom_classes": [],
            "_model_name": "HBoxModel",
            "_view_module": "@jupyter-widgets/controls",
            "_model_module_version": "1.5.0",
            "_view_count": null,
            "_view_module_version": "1.5.0",
            "box_style": "",
            "layout": "IPY_MODEL_acd15c08efd94285aa600e601358cc59",
            "_model_module": "@jupyter-widgets/controls",
            "children": [
              "IPY_MODEL_5ebb51fe444b454ca2aaed57119105e0",
              "IPY_MODEL_610782e2a9f84c1384a88500394d36c2"
            ]
          }
        },
        "acd15c08efd94285aa600e601358cc59": {
          "model_module": "@jupyter-widgets/base",
          "model_name": "LayoutModel",
          "state": {
            "_view_name": "LayoutView",
            "grid_template_rows": null,
            "right": null,
            "justify_content": null,
            "_view_module": "@jupyter-widgets/base",
            "overflow": null,
            "_model_module_version": "1.2.0",
            "_view_count": null,
            "flex_flow": null,
            "width": null,
            "min_width": null,
            "border": null,
            "align_items": null,
            "bottom": null,
            "_model_module": "@jupyter-widgets/base",
            "top": null,
            "grid_column": null,
            "overflow_y": null,
            "overflow_x": null,
            "grid_auto_flow": null,
            "grid_area": null,
            "grid_template_columns": null,
            "flex": null,
            "_model_name": "LayoutModel",
            "justify_items": null,
            "grid_row": null,
            "max_height": null,
            "align_content": null,
            "visibility": null,
            "align_self": null,
            "height": null,
            "min_height": null,
            "padding": null,
            "grid_auto_rows": null,
            "grid_gap": null,
            "max_width": null,
            "order": null,
            "_view_module_version": "1.2.0",
            "grid_template_areas": null,
            "object_position": null,
            "object_fit": null,
            "grid_auto_columns": null,
            "margin": null,
            "display": null,
            "left": null
          }
        },
        "5ebb51fe444b454ca2aaed57119105e0": {
          "model_module": "@jupyter-widgets/controls",
          "model_name": "FloatProgressModel",
          "state": {
            "_view_name": "ProgressView",
            "style": "IPY_MODEL_cae46ef5395c4aecbb0cb7b1f8df87ea",
            "_dom_classes": [],
            "description": "Downloading: 100%",
            "_model_name": "FloatProgressModel",
            "bar_style": "success",
            "max": 433,
            "_view_module": "@jupyter-widgets/controls",
            "_model_module_version": "1.5.0",
            "value": 433,
            "_view_count": null,
            "_view_module_version": "1.5.0",
            "orientation": "horizontal",
            "min": 0,
            "description_tooltip": null,
            "_model_module": "@jupyter-widgets/controls",
            "layout": "IPY_MODEL_dc719ee983a14884890662abd8a378e1"
          }
        },
        "610782e2a9f84c1384a88500394d36c2": {
          "model_module": "@jupyter-widgets/controls",
          "model_name": "HTMLModel",
          "state": {
            "_view_name": "HTMLView",
            "style": "IPY_MODEL_ae264bd27a154e7397c02edf641ac097",
            "_dom_classes": [],
            "description": "",
            "_model_name": "HTMLModel",
            "placeholder": "​",
            "_view_module": "@jupyter-widgets/controls",
            "_model_module_version": "1.5.0",
            "value": " 433/433 [00:00&lt;00:00, 656B/s]",
            "_view_count": null,
            "_view_module_version": "1.5.0",
            "description_tooltip": null,
            "_model_module": "@jupyter-widgets/controls",
            "layout": "IPY_MODEL_68a95418006246c8a88a03f4a7d47978"
          }
        },
        "cae46ef5395c4aecbb0cb7b1f8df87ea": {
          "model_module": "@jupyter-widgets/controls",
          "model_name": "ProgressStyleModel",
          "state": {
            "_view_name": "StyleView",
            "_model_name": "ProgressStyleModel",
            "description_width": "initial",
            "_view_module": "@jupyter-widgets/base",
            "_model_module_version": "1.5.0",
            "_view_count": null,
            "_view_module_version": "1.2.0",
            "bar_color": null,
            "_model_module": "@jupyter-widgets/controls"
          }
        },
        "dc719ee983a14884890662abd8a378e1": {
          "model_module": "@jupyter-widgets/base",
          "model_name": "LayoutModel",
          "state": {
            "_view_name": "LayoutView",
            "grid_template_rows": null,
            "right": null,
            "justify_content": null,
            "_view_module": "@jupyter-widgets/base",
            "overflow": null,
            "_model_module_version": "1.2.0",
            "_view_count": null,
            "flex_flow": null,
            "width": null,
            "min_width": null,
            "border": null,
            "align_items": null,
            "bottom": null,
            "_model_module": "@jupyter-widgets/base",
            "top": null,
            "grid_column": null,
            "overflow_y": null,
            "overflow_x": null,
            "grid_auto_flow": null,
            "grid_area": null,
            "grid_template_columns": null,
            "flex": null,
            "_model_name": "LayoutModel",
            "justify_items": null,
            "grid_row": null,
            "max_height": null,
            "align_content": null,
            "visibility": null,
            "align_self": null,
            "height": null,
            "min_height": null,
            "padding": null,
            "grid_auto_rows": null,
            "grid_gap": null,
            "max_width": null,
            "order": null,
            "_view_module_version": "1.2.0",
            "grid_template_areas": null,
            "object_position": null,
            "object_fit": null,
            "grid_auto_columns": null,
            "margin": null,
            "display": null,
            "left": null
          }
        },
        "ae264bd27a154e7397c02edf641ac097": {
          "model_module": "@jupyter-widgets/controls",
          "model_name": "DescriptionStyleModel",
          "state": {
            "_view_name": "StyleView",
            "_model_name": "DescriptionStyleModel",
            "description_width": "",
            "_view_module": "@jupyter-widgets/base",
            "_model_module_version": "1.5.0",
            "_view_count": null,
            "_view_module_version": "1.2.0",
            "_model_module": "@jupyter-widgets/controls"
          }
        },
        "68a95418006246c8a88a03f4a7d47978": {
          "model_module": "@jupyter-widgets/base",
          "model_name": "LayoutModel",
          "state": {
            "_view_name": "LayoutView",
            "grid_template_rows": null,
            "right": null,
            "justify_content": null,
            "_view_module": "@jupyter-widgets/base",
            "overflow": null,
            "_model_module_version": "1.2.0",
            "_view_count": null,
            "flex_flow": null,
            "width": null,
            "min_width": null,
            "border": null,
            "align_items": null,
            "bottom": null,
            "_model_module": "@jupyter-widgets/base",
            "top": null,
            "grid_column": null,
            "overflow_y": null,
            "overflow_x": null,
            "grid_auto_flow": null,
            "grid_area": null,
            "grid_template_columns": null,
            "flex": null,
            "_model_name": "LayoutModel",
            "justify_items": null,
            "grid_row": null,
            "max_height": null,
            "align_content": null,
            "visibility": null,
            "align_self": null,
            "height": null,
            "min_height": null,
            "padding": null,
            "grid_auto_rows": null,
            "grid_gap": null,
            "max_width": null,
            "order": null,
            "_view_module_version": "1.2.0",
            "grid_template_areas": null,
            "object_position": null,
            "object_fit": null,
            "grid_auto_columns": null,
            "margin": null,
            "display": null,
            "left": null
          }
        },
        "7690dd9329a342ceb8d05ab7eb1178f1": {
          "model_module": "@jupyter-widgets/controls",
          "model_name": "HBoxModel",
          "state": {
            "_view_name": "HBoxView",
            "_dom_classes": [],
            "_model_name": "HBoxModel",
            "_view_module": "@jupyter-widgets/controls",
            "_model_module_version": "1.5.0",
            "_view_count": null,
            "_view_module_version": "1.5.0",
            "box_style": "",
            "layout": "IPY_MODEL_62d16f7367034933889a8a9ae3084547",
            "_model_module": "@jupyter-widgets/controls",
            "children": [
              "IPY_MODEL_2f2474b09fab499cbbe59428a2c4420e",
              "IPY_MODEL_fe0ea23c90ef4fa7bad850210e14be1d"
            ]
          }
        },
        "62d16f7367034933889a8a9ae3084547": {
          "model_module": "@jupyter-widgets/base",
          "model_name": "LayoutModel",
          "state": {
            "_view_name": "LayoutView",
            "grid_template_rows": null,
            "right": null,
            "justify_content": null,
            "_view_module": "@jupyter-widgets/base",
            "overflow": null,
            "_model_module_version": "1.2.0",
            "_view_count": null,
            "flex_flow": null,
            "width": null,
            "min_width": null,
            "border": null,
            "align_items": null,
            "bottom": null,
            "_model_module": "@jupyter-widgets/base",
            "top": null,
            "grid_column": null,
            "overflow_y": null,
            "overflow_x": null,
            "grid_auto_flow": null,
            "grid_area": null,
            "grid_template_columns": null,
            "flex": null,
            "_model_name": "LayoutModel",
            "justify_items": null,
            "grid_row": null,
            "max_height": null,
            "align_content": null,
            "visibility": null,
            "align_self": null,
            "height": null,
            "min_height": null,
            "padding": null,
            "grid_auto_rows": null,
            "grid_gap": null,
            "max_width": null,
            "order": null,
            "_view_module_version": "1.2.0",
            "grid_template_areas": null,
            "object_position": null,
            "object_fit": null,
            "grid_auto_columns": null,
            "margin": null,
            "display": null,
            "left": null
          }
        },
        "2f2474b09fab499cbbe59428a2c4420e": {
          "model_module": "@jupyter-widgets/controls",
          "model_name": "FloatProgressModel",
          "state": {
            "_view_name": "ProgressView",
            "style": "IPY_MODEL_050c6d5f6c154cf3bc35cf6dcc821e75",
            "_dom_classes": [],
            "description": "Downloading: 100%",
            "_model_name": "FloatProgressModel",
            "bar_style": "success",
            "max": 536063208,
            "_view_module": "@jupyter-widgets/controls",
            "_model_module_version": "1.5.0",
            "value": 536063208,
            "_view_count": null,
            "_view_module_version": "1.5.0",
            "orientation": "horizontal",
            "min": 0,
            "description_tooltip": null,
            "_model_module": "@jupyter-widgets/controls",
            "layout": "IPY_MODEL_0d41372c23554c9385b37300eeaa309c"
          }
        },
        "fe0ea23c90ef4fa7bad850210e14be1d": {
          "model_module": "@jupyter-widgets/controls",
          "model_name": "HTMLModel",
          "state": {
            "_view_name": "HTMLView",
            "style": "IPY_MODEL_c3dbaae4bc104b92a2dd341e18a23a93",
            "_dom_classes": [],
            "description": "",
            "_model_name": "HTMLModel",
            "placeholder": "​",
            "_view_module": "@jupyter-widgets/controls",
            "_model_module_version": "1.5.0",
            "value": " 536M/536M [00:06&lt;00:00, 78.9MB/s]",
            "_view_count": null,
            "_view_module_version": "1.5.0",
            "description_tooltip": null,
            "_model_module": "@jupyter-widgets/controls",
            "layout": "IPY_MODEL_69aea2d89a6c49f69551c1ab48080f5d"
          }
        },
        "050c6d5f6c154cf3bc35cf6dcc821e75": {
          "model_module": "@jupyter-widgets/controls",
          "model_name": "ProgressStyleModel",
          "state": {
            "_view_name": "StyleView",
            "_model_name": "ProgressStyleModel",
            "description_width": "initial",
            "_view_module": "@jupyter-widgets/base",
            "_model_module_version": "1.5.0",
            "_view_count": null,
            "_view_module_version": "1.2.0",
            "bar_color": null,
            "_model_module": "@jupyter-widgets/controls"
          }
        },
        "0d41372c23554c9385b37300eeaa309c": {
          "model_module": "@jupyter-widgets/base",
          "model_name": "LayoutModel",
          "state": {
            "_view_name": "LayoutView",
            "grid_template_rows": null,
            "right": null,
            "justify_content": null,
            "_view_module": "@jupyter-widgets/base",
            "overflow": null,
            "_model_module_version": "1.2.0",
            "_view_count": null,
            "flex_flow": null,
            "width": null,
            "min_width": null,
            "border": null,
            "align_items": null,
            "bottom": null,
            "_model_module": "@jupyter-widgets/base",
            "top": null,
            "grid_column": null,
            "overflow_y": null,
            "overflow_x": null,
            "grid_auto_flow": null,
            "grid_area": null,
            "grid_template_columns": null,
            "flex": null,
            "_model_name": "LayoutModel",
            "justify_items": null,
            "grid_row": null,
            "max_height": null,
            "align_content": null,
            "visibility": null,
            "align_self": null,
            "height": null,
            "min_height": null,
            "padding": null,
            "grid_auto_rows": null,
            "grid_gap": null,
            "max_width": null,
            "order": null,
            "_view_module_version": "1.2.0",
            "grid_template_areas": null,
            "object_position": null,
            "object_fit": null,
            "grid_auto_columns": null,
            "margin": null,
            "display": null,
            "left": null
          }
        },
        "c3dbaae4bc104b92a2dd341e18a23a93": {
          "model_module": "@jupyter-widgets/controls",
          "model_name": "DescriptionStyleModel",
          "state": {
            "_view_name": "StyleView",
            "_model_name": "DescriptionStyleModel",
            "description_width": "",
            "_view_module": "@jupyter-widgets/base",
            "_model_module_version": "1.5.0",
            "_view_count": null,
            "_view_module_version": "1.2.0",
            "_model_module": "@jupyter-widgets/controls"
          }
        },
        "69aea2d89a6c49f69551c1ab48080f5d": {
          "model_module": "@jupyter-widgets/base",
          "model_name": "LayoutModel",
          "state": {
            "_view_name": "LayoutView",
            "grid_template_rows": null,
            "right": null,
            "justify_content": null,
            "_view_module": "@jupyter-widgets/base",
            "overflow": null,
            "_model_module_version": "1.2.0",
            "_view_count": null,
            "flex_flow": null,
            "width": null,
            "min_width": null,
            "border": null,
            "align_items": null,
            "bottom": null,
            "_model_module": "@jupyter-widgets/base",
            "top": null,
            "grid_column": null,
            "overflow_y": null,
            "overflow_x": null,
            "grid_auto_flow": null,
            "grid_area": null,
            "grid_template_columns": null,
            "flex": null,
            "_model_name": "LayoutModel",
            "justify_items": null,
            "grid_row": null,
            "max_height": null,
            "align_content": null,
            "visibility": null,
            "align_self": null,
            "height": null,
            "min_height": null,
            "padding": null,
            "grid_auto_rows": null,
            "grid_gap": null,
            "max_width": null,
            "order": null,
            "_view_module_version": "1.2.0",
            "grid_template_areas": null,
            "object_position": null,
            "object_fit": null,
            "grid_auto_columns": null,
            "margin": null,
            "display": null,
            "left": null
          }
        }
      }
    }
  },
  "cells": [
    {
      "cell_type": "markdown",
      "metadata": {
        "id": "NmNVcTiAhwfD",
        "colab_type": "text"
      },
      "source": [
        "[![Open In Colab](https://colab.research.google.com/assets/colab-badge.svg)](https://colab.research.google.com/github/tuanh118/uw-fsdl-bert-transfer-translation/blob/master/Notebook.ipynb)"
      ]
    },
    {
      "cell_type": "markdown",
      "metadata": {
        "id": "qCjQJgSsfzWg",
        "colab_type": "text"
      },
      "source": [
        "## Set up the Collab VM and import libraries.\n"
      ]
    },
    {
      "cell_type": "code",
      "metadata": {
        "id": "FKPCWTgXfzWX",
        "colab_type": "code",
        "outputId": "110ad9ef-0ae5-4f8e-bff8-691de88fe426",
        "colab": {
          "base_uri": "https://localhost:8080/",
          "height": 751
        }
      },
      "source": [
        "# Hack to reference other files in the repo in Collab.\n",
        "!git clone https://github.com/tuanh118/uw-fsdl-bert-transfer-translation\n",
        "import sys\n",
        "sys.path.append('./uw-fsdl-bert-transfer-translation')\n",
        "\n",
        "# Install required packages.\n",
        "!pip install transformers\n",
        "\n",
        "%matplotlib inline\n",
        "import matplotlib.pyplot as plt\n",
        "import tensorflow as tf\n",
        "from transformers import *\n",
        "from sklearn.model_selection import train_test_split\n",
        "\n",
        "import io\n",
        "import os\n",
        "import time\n",
        "\n",
        "from CombinedBertTransformerModel import *\n",
        "from DatasetSequence import *\n",
        "from functools import partial\n",
        "from util import *"
      ],
      "execution_count": 1,
      "outputs": [
        {
          "output_type": "stream",
          "text": [
            "Cloning into 'uw-fsdl-bert-transfer-translation'...\n",
            "remote: Enumerating objects: 76, done.\u001b[K\n",
            "remote: Counting objects: 100% (76/76), done.\u001b[K\n",
            "remote: Compressing objects: 100% (63/63), done.\u001b[K\n",
            "remote: Total 76 (delta 28), reused 47 (delta 11), pack-reused 0\u001b[K\n",
            "Unpacking objects: 100% (76/76), done.\n",
            "Collecting transformers\n",
            "\u001b[?25l  Downloading https://files.pythonhosted.org/packages/12/b5/ac41e3e95205ebf53439e4dd087c58e9fd371fd8e3724f2b9b4cdb8282e5/transformers-2.10.0-py3-none-any.whl (660kB)\n",
            "\u001b[K     |████████████████████████████████| 665kB 12.1MB/s \n",
            "\u001b[?25hRequirement already satisfied: numpy in /usr/local/lib/python3.6/dist-packages (from transformers) (1.18.4)\n",
            "Requirement already satisfied: dataclasses; python_version < \"3.7\" in /usr/local/lib/python3.6/dist-packages (from transformers) (0.7)\n",
            "Requirement already satisfied: regex!=2019.12.17 in /usr/local/lib/python3.6/dist-packages (from transformers) (2019.12.20)\n",
            "Collecting sacremoses\n",
            "\u001b[?25l  Downloading https://files.pythonhosted.org/packages/7d/34/09d19aff26edcc8eb2a01bed8e98f13a1537005d31e95233fd48216eed10/sacremoses-0.0.43.tar.gz (883kB)\n",
            "\u001b[K     |████████████████████████████████| 890kB 58.4MB/s \n",
            "\u001b[?25hRequirement already satisfied: filelock in /usr/local/lib/python3.6/dist-packages (from transformers) (3.0.12)\n",
            "Requirement already satisfied: tqdm>=4.27 in /usr/local/lib/python3.6/dist-packages (from transformers) (4.41.1)\n",
            "Collecting sentencepiece\n",
            "\u001b[?25l  Downloading https://files.pythonhosted.org/packages/d4/a4/d0a884c4300004a78cca907a6ff9a5e9fe4f090f5d95ab341c53d28cbc58/sentencepiece-0.1.91-cp36-cp36m-manylinux1_x86_64.whl (1.1MB)\n",
            "\u001b[K     |████████████████████████████████| 1.1MB 50.8MB/s \n",
            "\u001b[?25hRequirement already satisfied: requests in /usr/local/lib/python3.6/dist-packages (from transformers) (2.23.0)\n",
            "Collecting tokenizers==0.7.0\n",
            "\u001b[?25l  Downloading https://files.pythonhosted.org/packages/14/e5/a26eb4716523808bb0a799fcfdceb6ebf77a18169d9591b2f46a9adb87d9/tokenizers-0.7.0-cp36-cp36m-manylinux1_x86_64.whl (3.8MB)\n",
            "\u001b[K     |████████████████████████████████| 3.8MB 53.4MB/s \n",
            "\u001b[?25hRequirement already satisfied: six in /usr/local/lib/python3.6/dist-packages (from sacremoses->transformers) (1.12.0)\n",
            "Requirement already satisfied: click in /usr/local/lib/python3.6/dist-packages (from sacremoses->transformers) (7.1.2)\n",
            "Requirement already satisfied: joblib in /usr/local/lib/python3.6/dist-packages (from sacremoses->transformers) (0.15.1)\n",
            "Requirement already satisfied: urllib3!=1.25.0,!=1.25.1,<1.26,>=1.21.1 in /usr/local/lib/python3.6/dist-packages (from requests->transformers) (1.24.3)\n",
            "Requirement already satisfied: certifi>=2017.4.17 in /usr/local/lib/python3.6/dist-packages (from requests->transformers) (2020.4.5.1)\n",
            "Requirement already satisfied: chardet<4,>=3.0.2 in /usr/local/lib/python3.6/dist-packages (from requests->transformers) (3.0.4)\n",
            "Requirement already satisfied: idna<3,>=2.5 in /usr/local/lib/python3.6/dist-packages (from requests->transformers) (2.9)\n",
            "Building wheels for collected packages: sacremoses\n",
            "  Building wheel for sacremoses (setup.py) ... \u001b[?25l\u001b[?25hdone\n",
            "  Created wheel for sacremoses: filename=sacremoses-0.0.43-cp36-none-any.whl size=893260 sha256=abf5b9cd93a4805ddac90219623e4080254eca9534eac8c3975b26e7d2a796a4\n",
            "  Stored in directory: /root/.cache/pip/wheels/29/3c/fd/7ce5c3f0666dab31a50123635e6fb5e19ceb42ce38d4e58f45\n",
            "Successfully built sacremoses\n",
            "Installing collected packages: sacremoses, sentencepiece, tokenizers, transformers\n",
            "Successfully installed sacremoses-0.0.43 sentencepiece-0.1.91 tokenizers-0.7.0 transformers-2.10.0\n"
          ],
          "name": "stdout"
        }
      ]
    },
    {
      "cell_type": "markdown",
      "metadata": {
        "id": "AtvhmVW8hAdv",
        "colab_type": "text"
      },
      "source": [
        "## Data retrieval"
      ]
    },
    {
      "cell_type": "code",
      "metadata": {
        "id": "lKiRA9jVfzWh",
        "colab_type": "code",
        "outputId": "3d1545f0-ac64-4824-83bc-563a9aa7b668",
        "colab": {
          "base_uri": "https://localhost:8080/",
          "height": 55
        }
      },
      "source": [
        "# Download the EuroParl French-English corpus.\n",
        "path_to_fr_en_tar = tf.keras.utils.get_file('fr-en.tgz', origin='https://www.statmt.org/europarl/v7/fr-en.tgz', extract=True)\n",
        "path_to_fr_en_en_file = os.path.dirname(path_to_fr_en_tar) + \"/europarl-v7.fr-en.en\"\n",
        "path_to_fr_en_fr_file = os.path.dirname(path_to_fr_en_tar) + \"/europarl-v7.fr-en.fr\"\n"
      ],
      "execution_count": 2,
      "outputs": [
        {
          "output_type": "stream",
          "text": [
            "Downloading data from https://www.statmt.org/europarl/v7/fr-en.tgz\n",
            "202719232/202718517 [==============================] - 48s 0us/step\n"
          ],
          "name": "stdout"
        }
      ]
    },
    {
      "cell_type": "markdown",
      "metadata": {
        "colab_type": "text",
        "id": "wlQGXSx-7tj_"
      },
      "source": [
        "## Data processing"
      ]
    },
    {
      "cell_type": "code",
      "metadata": {
        "colab_type": "code",
        "outputId": "8e5e7de0-b4d9-4f4f-dd9d-c4cbd7b6f191",
        "id": "jG76mcdq7tkB",
        "colab": {
          "base_uri": "https://localhost:8080/",
          "height": 782,
          "referenced_widgets": [
            "c5d0701ac44648a29d80c3f38b54b0ba",
            "264fe64e1ada4224bfec637351bce7bb",
            "f2adfc8f05b2405eb05a14381dad4600",
            "ff3795560a5f45a695f209e49886c081",
            "c4c1daaf0b5d4d9e9a0df7b9a55dbdf6",
            "8f5f03b413c243c899b42a436fb3b095",
            "8dcf0875da8b46d4a934f7fe0f480df4",
            "f800be1b8d564a419e11f40d18d04693"
          ]
        }
      },
      "source": [
        "# Sets up a BERT tokenizer.\n",
        "def instantiate_tokenizer():\n",
        "    return BertTokenizer.from_pretrained('bert-base-uncased')\n",
        "\n",
        "# Given a path to a text file, load and tokenize each line using the provided tokenizer, then convert each token to an ID and pad all lines to have length max_tokens.\n",
        "def load_dataset(language_path, tokenizer, num_examples=None, max_tokens=500):\n",
        "    # Read the data.\n",
        "    lines = io.open(language_path, encoding='UTF-8').read().strip().splitlines()[:num_examples]\n",
        "\n",
        "    # Tokenize and add the special start token.\n",
        "    tokenized_lines = [ ['[CLS]'] + tokenizer.tokenize(line)[:max_tokens-1] + ['[SEP]'] for line in lines ]\n",
        "    \n",
        "    # Convert tokens to IDs.\n",
        "    ids = [ tokenizer.convert_tokens_to_ids(tokenized_line) for tokenized_line in tokenized_lines ]\n",
        "\n",
        "    # Generate padding masks and segment IDs. These have the same length as the ID sequences after padding.\n",
        "    # Padding mask is 1 where there is an actual ID and 0 where there is padding. Segment ID is always 0.\n",
        "    masks = [ [1] * len(tokenized_line) for tokenized_line in tokenized_lines ]\n",
        "    segments = [ [] for tokenized_line in tokenized_lines ]\n",
        "\n",
        "    # Pad all ID sequences to the maximum length with zeroes.\n",
        "    ids = tf.keras.preprocessing.sequence.pad_sequences(ids, maxlen=max_tokens, truncating=\"post\", padding=\"post\", dtype=\"int\")\n",
        "    masks = tf.keras.preprocessing.sequence.pad_sequences(masks, maxlen=max_tokens, truncating=\"post\", padding=\"post\", dtype=\"int\")\n",
        "    segments = tf.keras.preprocessing.sequence.pad_sequences(segments, maxlen=max_tokens, truncating=\"post\", padding=\"post\", dtype=\"int\")\n",
        "\n",
        "    return ids, masks, segments\n",
        "\n",
        "BATCH_SIZE = 64\n",
        "d_model = 32\n",
        "num_examples = BATCH_SIZE * 5\n",
        "max_tokens = 200\n",
        "tokenizer = instantiate_tokenizer()\n",
        "vocab_size = len(tokenizer.vocab)\n",
        "\n",
        "input_tensor, masks, segments = load_dataset(path_to_fr_en_en_file, tokenizer, num_examples, max_tokens)\n",
        "target_tensor, _, _ = load_dataset(path_to_fr_en_fr_file, tokenizer, num_examples, max_tokens)\n",
        "\n",
        "# Split the data into training and validation sets.  No test set for now since we're just experimenting.\n",
        "input_tensor_train, input_tensor_val, target_tensor_train, target_tensor_val = train_test_split(input_tensor, target_tensor, test_size=0.2)\n",
        "\n",
        "# Do some printing to show that the processing worked.\n",
        "def convert(tokenizer, tensor):\n",
        "    for t in tensor:\n",
        "        if t != 0:\n",
        "            print (\"%d ----> %s\" % (t, tokenizer.ids_to_tokens[t]))\n",
        "\n",
        "print(\"ID to token mapping for first training example (input)\")\n",
        "convert(tokenizer, input_tensor_train[0])\n",
        "print()\n",
        "print(\"ID to token mapping for first training example (target)\")\n",
        "convert(tokenizer, target_tensor_train[0])\n",
        "\n",
        "def format_batch(x, y):\n",
        "    \"\"\"\n",
        "    Inputs are x and y up to the last character.\n",
        "    Outputs are y from first character (shifted).\n",
        "    \"\"\"\n",
        "    return [x, y[:, :-1]], y[:, 1:]\n",
        "\n",
        "train_dataset = DatasetSequence(input_tensor_train, target_tensor_train, batch_size=BATCH_SIZE, format_fn=format_batch)\n",
        "validation_dataset = DatasetSequence(input_tensor_val, target_tensor_val, batch_size=BATCH_SIZE, format_fn=format_batch)"
      ],
      "execution_count": 3,
      "outputs": [
        {
          "output_type": "display_data",
          "data": {
            "application/vnd.jupyter.widget-view+json": {
              "model_id": "c5d0701ac44648a29d80c3f38b54b0ba",
              "version_minor": 0,
              "version_major": 2
            },
            "text/plain": [
              "HBox(children=(FloatProgress(value=0.0, description='Downloading', max=231508.0, style=ProgressStyle(descripti…"
            ]
          },
          "metadata": {
            "tags": []
          }
        },
        {
          "output_type": "stream",
          "text": [
            "\n",
            "ID to token mapping for first training example (input)\n",
            "101 ----> [CLS]\n",
            "2053 ----> no\n",
            "16051 ----> amendments\n",
            "2031 ----> have\n",
            "2042 ----> been\n",
            "3818 ----> proposed\n",
            "8800 ----> relating\n",
            "2000 ----> to\n",
            "6928 ----> monday\n",
            "1998 ----> and\n",
            "9857 ----> tuesday\n",
            "1012 ----> .\n",
            "102 ----> [SEP]\n",
            "\n",
            "ID to token mapping for first training example (target)\n",
            "101 ----> [CLS]\n",
            "1055 ----> s\n",
            "1005 ----> '\n",
            "12943 ----> ag\n",
            "21205 ----> ##issa\n",
            "3372 ----> ##nt\n",
            "2139 ----> de\n",
            "21860 ----> lund\n",
            "2072 ----> ##i\n",
            "3802 ----> et\n",
            "9388 ----> mar\n",
            "4305 ----> ##di\n",
            "1010 ----> ,\n",
            "15333 ----> je\n",
            "1050 ----> n\n",
            "1005 ----> '\n",
            "9932 ----> ai\n",
            "14674 ----> pas\n",
            "2139 ----> de\n",
            "12719 ----> modifications\n",
            "1012 ----> .\n",
            "102 ----> [SEP]\n"
          ],
          "name": "stdout"
        }
      ]
    },
    {
      "cell_type": "markdown",
      "metadata": {
        "colab_type": "text",
        "id": "-QqZ3lFo7rwW"
      },
      "source": [
        "## Model preparation"
      ]
    },
    {
      "cell_type": "code",
      "metadata": {
        "colab_type": "code",
        "outputId": "f9675591-fa71-4f87-91de-3c4109cdae2f",
        "id": "3FxkpKzR7rwZ",
        "colab": {
          "base_uri": "https://localhost:8080/",
          "height": 532,
          "referenced_widgets": [
            "27ce16afd2b24b4e83e8c6f4c01132f5",
            "acd15c08efd94285aa600e601358cc59",
            "5ebb51fe444b454ca2aaed57119105e0",
            "610782e2a9f84c1384a88500394d36c2",
            "cae46ef5395c4aecbb0cb7b1f8df87ea",
            "dc719ee983a14884890662abd8a378e1",
            "ae264bd27a154e7397c02edf641ac097",
            "68a95418006246c8a88a03f4a7d47978",
            "7690dd9329a342ceb8d05ab7eb1178f1",
            "62d16f7367034933889a8a9ae3084547",
            "2f2474b09fab499cbbe59428a2c4420e",
            "fe0ea23c90ef4fa7bad850210e14be1d",
            "050c6d5f6c154cf3bc35cf6dcc821e75",
            "0d41372c23554c9385b37300eeaa309c",
            "c3dbaae4bc104b92a2dd341e18a23a93",
            "69aea2d89a6c49f69551c1ab48080f5d"
          ]
        }
      },
      "source": [
        "# Prepare training: Compile tf.keras model with optimizer, loss and learning rate schedule\n",
        "learning_rate = CustomSchedule(d_model=d_model)\n",
        "optimizer = tf.keras.optimizers.Adam(learning_rate, beta_1=0.9, beta_2=0.98, epsilon=1e-9)\n",
        "\n",
        "loss = partial(sparse_categorical_crossentropy_ignoring_padding, padding_label=0)\n",
        "loss.__name__ = 'loss'\n",
        "accuracy = partial(sparse_categorical_accuracy_ignoring_padding, padding_label=0)\n",
        "accuracy.__name__ = 'accuracy'\n",
        "\n",
        "model = CombinedBertTransformerModel(\n",
        "    max_tokens=max_tokens,\n",
        "    vocab_size=vocab_size,\n",
        "    num_layers=2,\n",
        "    units=32,\n",
        "    d_model=d_model,\n",
        "    num_heads=2,\n",
        "    dropout=0,\n",
        "    padding_label=0\n",
        ")\n",
        "model.compile(optimizer=optimizer, loss=loss, metrics=[accuracy])\n",
        "model.summary()"
      ],
      "execution_count": 4,
      "outputs": [
        {
          "output_type": "display_data",
          "data": {
            "application/vnd.jupyter.widget-view+json": {
              "model_id": "27ce16afd2b24b4e83e8c6f4c01132f5",
              "version_minor": 0,
              "version_major": 2
            },
            "text/plain": [
              "HBox(children=(FloatProgress(value=0.0, description='Downloading', max=433.0, style=ProgressStyle(description_…"
            ]
          },
          "metadata": {
            "tags": []
          }
        },
        {
          "output_type": "stream",
          "text": [
            "\n"
          ],
          "name": "stdout"
        },
        {
          "output_type": "display_data",
          "data": {
            "application/vnd.jupyter.widget-view+json": {
              "model_id": "7690dd9329a342ceb8d05ab7eb1178f1",
              "version_minor": 0,
              "version_major": 2
            },
            "text/plain": [
              "HBox(children=(FloatProgress(value=0.0, description='Downloading', max=536063208.0, style=ProgressStyle(descri…"
            ]
          },
          "metadata": {
            "tags": []
          }
        },
        {
          "output_type": "stream",
          "text": [
            "\n",
            "Model: \"model\"\n",
            "__________________________________________________________________________________________________\n",
            "Layer (type)                    Output Shape         Param #     Connected to                     \n",
            "==================================================================================================\n",
            "tokenized_output_sentence (Inpu [(None, None)]       0                                            \n",
            "__________________________________________________________________________________________________\n",
            "tokenized_input_sentence (Input [(None, None)]       0                                            \n",
            "__________________________________________________________________________________________________\n",
            "tf_bert_model (TFBertModel)     ((None, None, 768),  109482240   tokenized_input_sentence[0][0]   \n",
            "__________________________________________________________________________________________________\n",
            "look_ahead_mask (Lambda)        (None, 1, None, None 0           tokenized_output_sentence[0][0]  \n",
            "__________________________________________________________________________________________________\n",
            "decoder (Model)                 (None, None, 32)     1092416     tokenized_output_sentence[0][0]  \n",
            "                                                                 tf_bert_model[0][0]              \n",
            "                                                                 look_ahead_mask[0][0]            \n",
            "__________________________________________________________________________________________________\n",
            "outputs (Dense)                 (None, None, 30522)  1007226     decoder[1][0]                    \n",
            "==================================================================================================\n",
            "Total params: 111,581,882\n",
            "Trainable params: 2,099,642\n",
            "Non-trainable params: 109,482,240\n",
            "__________________________________________________________________________________________________\n"
          ],
          "name": "stdout"
        }
      ]
    },
    {
      "cell_type": "markdown",
      "metadata": {
        "colab_type": "text",
        "id": "xJcFhGNI7-JW"
      },
      "source": [
        "## Model training"
      ]
    },
    {
      "cell_type": "code",
      "metadata": {
        "colab_type": "code",
        "outputId": "0e71bd03-cfd7-432a-fbf0-0457c0b6d84b",
        "id": "f_6BZGmR7HlO",
        "colab": {
          "base_uri": "https://localhost:8080/",
          "height": 412
        }
      },
      "source": [
        "# Train and evaluate the model using tf.keras.Model.fit()\n",
        "model.fit(\n",
        "    train_dataset,\n",
        "    validation_data=validation_dataset,\n",
        "    use_multiprocessing=False,\n",
        "    workers=1,\n",
        "    shuffle=True,\n",
        "    epochs=10\n",
        ")"
      ],
      "execution_count": 5,
      "outputs": [
        {
          "output_type": "stream",
          "text": [
            "Epoch 1/10\n",
            "4/4 [==============================] - 7s 2s/step - loss: 2.7100 - accuracy: 0.7377 - val_loss: 2.5810 - val_accuracy: 0.7502\n",
            "Epoch 2/10\n",
            "4/4 [==============================] - 4s 1s/step - loss: 2.7098 - accuracy: 0.7377 - val_loss: 2.5808 - val_accuracy: 0.7502\n",
            "Epoch 3/10\n",
            "4/4 [==============================] - 4s 1s/step - loss: 2.7095 - accuracy: 0.7377 - val_loss: 2.5804 - val_accuracy: 0.7502\n",
            "Epoch 4/10\n",
            "4/4 [==============================] - 4s 1s/step - loss: 2.7091 - accuracy: 0.7377 - val_loss: 2.5799 - val_accuracy: 0.7502\n",
            "Epoch 5/10\n",
            "4/4 [==============================] - 4s 1s/step - loss: 2.7084 - accuracy: 0.7377 - val_loss: 2.5792 - val_accuracy: 0.7502\n",
            "Epoch 6/10\n",
            "4/4 [==============================] - 4s 1s/step - loss: 2.7077 - accuracy: 0.7377 - val_loss: 2.5784 - val_accuracy: 0.7502\n",
            "Epoch 7/10\n",
            "4/4 [==============================] - 4s 1s/step - loss: 2.7067 - accuracy: 0.7377 - val_loss: 2.5775 - val_accuracy: 0.7502\n",
            "Epoch 8/10\n",
            "4/4 [==============================] - 4s 1s/step - loss: 2.7056 - accuracy: 0.7377 - val_loss: 2.5764 - val_accuracy: 0.7502\n",
            "Epoch 9/10\n",
            "4/4 [==============================] - 4s 1s/step - loss: 2.7044 - accuracy: 0.7377 - val_loss: 2.5752 - val_accuracy: 0.7502\n",
            "Epoch 10/10\n",
            "4/4 [==============================] - 4s 1s/step - loss: 2.7030 - accuracy: 0.7377 - val_loss: 2.5738 - val_accuracy: 0.7502\n"
          ],
          "name": "stdout"
        },
        {
          "output_type": "execute_result",
          "data": {
            "text/plain": [
              "<tensorflow.python.keras.callbacks.History at 0x7fb7f2c57c18>"
            ]
          },
          "metadata": {
            "tags": []
          },
          "execution_count": 5
        }
      ]
    }
  ]
}