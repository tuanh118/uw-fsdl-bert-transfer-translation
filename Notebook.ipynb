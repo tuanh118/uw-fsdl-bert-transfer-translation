{
  "nbformat": 4,
  "nbformat_minor": 0,
  "metadata": {
    "kernelspec": {
      "name": "python3",
      "display_name": "Python 3"
    },
    "colab": {
      "name": "Notebook.ipynb",
      "provenance": [],
      "toc_visible": true
    },
    "accelerator": "GPU",
    "widgets": {
      "application/vnd.jupyter.widget-state+json": {
        "77960b13bca64d02a1c1db7064d155d7": {
          "model_module": "@jupyter-widgets/controls",
          "model_name": "HBoxModel",
          "state": {
            "_view_name": "HBoxView",
            "_dom_classes": [],
            "_model_name": "HBoxModel",
            "_view_module": "@jupyter-widgets/controls",
            "_model_module_version": "1.5.0",
            "_view_count": null,
            "_view_module_version": "1.5.0",
            "box_style": "",
            "layout": "IPY_MODEL_91f6762c41de465c944453e6450b8a3b",
            "_model_module": "@jupyter-widgets/controls",
            "children": [
              "IPY_MODEL_11290603263a463487720280e65e935f",
              "IPY_MODEL_2688a8e4e40e498190676c4523490142"
            ]
          }
        },
        "91f6762c41de465c944453e6450b8a3b": {
          "model_module": "@jupyter-widgets/base",
          "model_name": "LayoutModel",
          "state": {
            "_view_name": "LayoutView",
            "grid_template_rows": null,
            "right": null,
            "justify_content": null,
            "_view_module": "@jupyter-widgets/base",
            "overflow": null,
            "_model_module_version": "1.2.0",
            "_view_count": null,
            "flex_flow": null,
            "width": null,
            "min_width": null,
            "border": null,
            "align_items": null,
            "bottom": null,
            "_model_module": "@jupyter-widgets/base",
            "top": null,
            "grid_column": null,
            "overflow_y": null,
            "overflow_x": null,
            "grid_auto_flow": null,
            "grid_area": null,
            "grid_template_columns": null,
            "flex": null,
            "_model_name": "LayoutModel",
            "justify_items": null,
            "grid_row": null,
            "max_height": null,
            "align_content": null,
            "visibility": null,
            "align_self": null,
            "height": null,
            "min_height": null,
            "padding": null,
            "grid_auto_rows": null,
            "grid_gap": null,
            "max_width": null,
            "order": null,
            "_view_module_version": "1.2.0",
            "grid_template_areas": null,
            "object_position": null,
            "object_fit": null,
            "grid_auto_columns": null,
            "margin": null,
            "display": null,
            "left": null
          }
        },
        "11290603263a463487720280e65e935f": {
          "model_module": "@jupyter-widgets/controls",
          "model_name": "FloatProgressModel",
          "state": {
            "_view_name": "ProgressView",
            "style": "IPY_MODEL_7e89a594906249faae90f03610759642",
            "_dom_classes": [],
            "description": "Downloading: 100%",
            "_model_name": "FloatProgressModel",
            "bar_style": "success",
            "max": 231508,
            "_view_module": "@jupyter-widgets/controls",
            "_model_module_version": "1.5.0",
            "value": 231508,
            "_view_count": null,
            "_view_module_version": "1.5.0",
            "orientation": "horizontal",
            "min": 0,
            "description_tooltip": null,
            "_model_module": "@jupyter-widgets/controls",
            "layout": "IPY_MODEL_45c31e65e978489ca381613c4ef43bd6"
          }
        },
        "2688a8e4e40e498190676c4523490142": {
          "model_module": "@jupyter-widgets/controls",
          "model_name": "HTMLModel",
          "state": {
            "_view_name": "HTMLView",
            "style": "IPY_MODEL_34da1844c01749368c8d3fab621a452c",
            "_dom_classes": [],
            "description": "",
            "_model_name": "HTMLModel",
            "placeholder": "​",
            "_view_module": "@jupyter-widgets/controls",
            "_model_module_version": "1.5.0",
            "value": " 232k/232k [00:00&lt;00:00, 3.37MB/s]",
            "_view_count": null,
            "_view_module_version": "1.5.0",
            "description_tooltip": null,
            "_model_module": "@jupyter-widgets/controls",
            "layout": "IPY_MODEL_b92ec517320c45e0a1e2bb7ce77a160c"
          }
        },
        "7e89a594906249faae90f03610759642": {
          "model_module": "@jupyter-widgets/controls",
          "model_name": "ProgressStyleModel",
          "state": {
            "_view_name": "StyleView",
            "_model_name": "ProgressStyleModel",
            "description_width": "initial",
            "_view_module": "@jupyter-widgets/base",
            "_model_module_version": "1.5.0",
            "_view_count": null,
            "_view_module_version": "1.2.0",
            "bar_color": null,
            "_model_module": "@jupyter-widgets/controls"
          }
        },
        "45c31e65e978489ca381613c4ef43bd6": {
          "model_module": "@jupyter-widgets/base",
          "model_name": "LayoutModel",
          "state": {
            "_view_name": "LayoutView",
            "grid_template_rows": null,
            "right": null,
            "justify_content": null,
            "_view_module": "@jupyter-widgets/base",
            "overflow": null,
            "_model_module_version": "1.2.0",
            "_view_count": null,
            "flex_flow": null,
            "width": null,
            "min_width": null,
            "border": null,
            "align_items": null,
            "bottom": null,
            "_model_module": "@jupyter-widgets/base",
            "top": null,
            "grid_column": null,
            "overflow_y": null,
            "overflow_x": null,
            "grid_auto_flow": null,
            "grid_area": null,
            "grid_template_columns": null,
            "flex": null,
            "_model_name": "LayoutModel",
            "justify_items": null,
            "grid_row": null,
            "max_height": null,
            "align_content": null,
            "visibility": null,
            "align_self": null,
            "height": null,
            "min_height": null,
            "padding": null,
            "grid_auto_rows": null,
            "grid_gap": null,
            "max_width": null,
            "order": null,
            "_view_module_version": "1.2.0",
            "grid_template_areas": null,
            "object_position": null,
            "object_fit": null,
            "grid_auto_columns": null,
            "margin": null,
            "display": null,
            "left": null
          }
        },
        "34da1844c01749368c8d3fab621a452c": {
          "model_module": "@jupyter-widgets/controls",
          "model_name": "DescriptionStyleModel",
          "state": {
            "_view_name": "StyleView",
            "_model_name": "DescriptionStyleModel",
            "description_width": "",
            "_view_module": "@jupyter-widgets/base",
            "_model_module_version": "1.5.0",
            "_view_count": null,
            "_view_module_version": "1.2.0",
            "_model_module": "@jupyter-widgets/controls"
          }
        },
        "b92ec517320c45e0a1e2bb7ce77a160c": {
          "model_module": "@jupyter-widgets/base",
          "model_name": "LayoutModel",
          "state": {
            "_view_name": "LayoutView",
            "grid_template_rows": null,
            "right": null,
            "justify_content": null,
            "_view_module": "@jupyter-widgets/base",
            "overflow": null,
            "_model_module_version": "1.2.0",
            "_view_count": null,
            "flex_flow": null,
            "width": null,
            "min_width": null,
            "border": null,
            "align_items": null,
            "bottom": null,
            "_model_module": "@jupyter-widgets/base",
            "top": null,
            "grid_column": null,
            "overflow_y": null,
            "overflow_x": null,
            "grid_auto_flow": null,
            "grid_area": null,
            "grid_template_columns": null,
            "flex": null,
            "_model_name": "LayoutModel",
            "justify_items": null,
            "grid_row": null,
            "max_height": null,
            "align_content": null,
            "visibility": null,
            "align_self": null,
            "height": null,
            "min_height": null,
            "padding": null,
            "grid_auto_rows": null,
            "grid_gap": null,
            "max_width": null,
            "order": null,
            "_view_module_version": "1.2.0",
            "grid_template_areas": null,
            "object_position": null,
            "object_fit": null,
            "grid_auto_columns": null,
            "margin": null,
            "display": null,
            "left": null
          }
        },
        "dae9869c0c074975bc70feab263c8f71": {
          "model_module": "@jupyter-widgets/controls",
          "model_name": "HBoxModel",
          "state": {
            "_view_name": "HBoxView",
            "_dom_classes": [],
            "_model_name": "HBoxModel",
            "_view_module": "@jupyter-widgets/controls",
            "_model_module_version": "1.5.0",
            "_view_count": null,
            "_view_module_version": "1.5.0",
            "box_style": "",
            "layout": "IPY_MODEL_f99977f451314b30b312fe96075470e9",
            "_model_module": "@jupyter-widgets/controls",
            "children": [
              "IPY_MODEL_7d4ba4c217cd4717897469ca289d7272",
              "IPY_MODEL_26878c4e1bbe4981a9e9dcba1a027203"
            ]
          }
        },
        "f99977f451314b30b312fe96075470e9": {
          "model_module": "@jupyter-widgets/base",
          "model_name": "LayoutModel",
          "state": {
            "_view_name": "LayoutView",
            "grid_template_rows": null,
            "right": null,
            "justify_content": null,
            "_view_module": "@jupyter-widgets/base",
            "overflow": null,
            "_model_module_version": "1.2.0",
            "_view_count": null,
            "flex_flow": null,
            "width": null,
            "min_width": null,
            "border": null,
            "align_items": null,
            "bottom": null,
            "_model_module": "@jupyter-widgets/base",
            "top": null,
            "grid_column": null,
            "overflow_y": null,
            "overflow_x": null,
            "grid_auto_flow": null,
            "grid_area": null,
            "grid_template_columns": null,
            "flex": null,
            "_model_name": "LayoutModel",
            "justify_items": null,
            "grid_row": null,
            "max_height": null,
            "align_content": null,
            "visibility": null,
            "align_self": null,
            "height": null,
            "min_height": null,
            "padding": null,
            "grid_auto_rows": null,
            "grid_gap": null,
            "max_width": null,
            "order": null,
            "_view_module_version": "1.2.0",
            "grid_template_areas": null,
            "object_position": null,
            "object_fit": null,
            "grid_auto_columns": null,
            "margin": null,
            "display": null,
            "left": null
          }
        },
        "7d4ba4c217cd4717897469ca289d7272": {
          "model_module": "@jupyter-widgets/controls",
          "model_name": "FloatProgressModel",
          "state": {
            "_view_name": "ProgressView",
            "style": "IPY_MODEL_1aca7d6125dc4098a9af2252cefa66aa",
            "_dom_classes": [],
            "description": "Downloading: 100%",
            "_model_name": "FloatProgressModel",
            "bar_style": "success",
            "max": 433,
            "_view_module": "@jupyter-widgets/controls",
            "_model_module_version": "1.5.0",
            "value": 433,
            "_view_count": null,
            "_view_module_version": "1.5.0",
            "orientation": "horizontal",
            "min": 0,
            "description_tooltip": null,
            "_model_module": "@jupyter-widgets/controls",
            "layout": "IPY_MODEL_81ecc12edba5493788613170a2f92cf5"
          }
        },
        "26878c4e1bbe4981a9e9dcba1a027203": {
          "model_module": "@jupyter-widgets/controls",
          "model_name": "HTMLModel",
          "state": {
            "_view_name": "HTMLView",
            "style": "IPY_MODEL_6705365c584949ac836570685568e194",
            "_dom_classes": [],
            "description": "",
            "_model_name": "HTMLModel",
            "placeholder": "​",
            "_view_module": "@jupyter-widgets/controls",
            "_model_module_version": "1.5.0",
            "value": " 433/433 [00:12&lt;00:00, 33.7B/s]",
            "_view_count": null,
            "_view_module_version": "1.5.0",
            "description_tooltip": null,
            "_model_module": "@jupyter-widgets/controls",
            "layout": "IPY_MODEL_3300b3ce71b041fe94fccd26e9836350"
          }
        },
        "1aca7d6125dc4098a9af2252cefa66aa": {
          "model_module": "@jupyter-widgets/controls",
          "model_name": "ProgressStyleModel",
          "state": {
            "_view_name": "StyleView",
            "_model_name": "ProgressStyleModel",
            "description_width": "initial",
            "_view_module": "@jupyter-widgets/base",
            "_model_module_version": "1.5.0",
            "_view_count": null,
            "_view_module_version": "1.2.0",
            "bar_color": null,
            "_model_module": "@jupyter-widgets/controls"
          }
        },
        "81ecc12edba5493788613170a2f92cf5": {
          "model_module": "@jupyter-widgets/base",
          "model_name": "LayoutModel",
          "state": {
            "_view_name": "LayoutView",
            "grid_template_rows": null,
            "right": null,
            "justify_content": null,
            "_view_module": "@jupyter-widgets/base",
            "overflow": null,
            "_model_module_version": "1.2.0",
            "_view_count": null,
            "flex_flow": null,
            "width": null,
            "min_width": null,
            "border": null,
            "align_items": null,
            "bottom": null,
            "_model_module": "@jupyter-widgets/base",
            "top": null,
            "grid_column": null,
            "overflow_y": null,
            "overflow_x": null,
            "grid_auto_flow": null,
            "grid_area": null,
            "grid_template_columns": null,
            "flex": null,
            "_model_name": "LayoutModel",
            "justify_items": null,
            "grid_row": null,
            "max_height": null,
            "align_content": null,
            "visibility": null,
            "align_self": null,
            "height": null,
            "min_height": null,
            "padding": null,
            "grid_auto_rows": null,
            "grid_gap": null,
            "max_width": null,
            "order": null,
            "_view_module_version": "1.2.0",
            "grid_template_areas": null,
            "object_position": null,
            "object_fit": null,
            "grid_auto_columns": null,
            "margin": null,
            "display": null,
            "left": null
          }
        },
        "6705365c584949ac836570685568e194": {
          "model_module": "@jupyter-widgets/controls",
          "model_name": "DescriptionStyleModel",
          "state": {
            "_view_name": "StyleView",
            "_model_name": "DescriptionStyleModel",
            "description_width": "",
            "_view_module": "@jupyter-widgets/base",
            "_model_module_version": "1.5.0",
            "_view_count": null,
            "_view_module_version": "1.2.0",
            "_model_module": "@jupyter-widgets/controls"
          }
        },
        "3300b3ce71b041fe94fccd26e9836350": {
          "model_module": "@jupyter-widgets/base",
          "model_name": "LayoutModel",
          "state": {
            "_view_name": "LayoutView",
            "grid_template_rows": null,
            "right": null,
            "justify_content": null,
            "_view_module": "@jupyter-widgets/base",
            "overflow": null,
            "_model_module_version": "1.2.0",
            "_view_count": null,
            "flex_flow": null,
            "width": null,
            "min_width": null,
            "border": null,
            "align_items": null,
            "bottom": null,
            "_model_module": "@jupyter-widgets/base",
            "top": null,
            "grid_column": null,
            "overflow_y": null,
            "overflow_x": null,
            "grid_auto_flow": null,
            "grid_area": null,
            "grid_template_columns": null,
            "flex": null,
            "_model_name": "LayoutModel",
            "justify_items": null,
            "grid_row": null,
            "max_height": null,
            "align_content": null,
            "visibility": null,
            "align_self": null,
            "height": null,
            "min_height": null,
            "padding": null,
            "grid_auto_rows": null,
            "grid_gap": null,
            "max_width": null,
            "order": null,
            "_view_module_version": "1.2.0",
            "grid_template_areas": null,
            "object_position": null,
            "object_fit": null,
            "grid_auto_columns": null,
            "margin": null,
            "display": null,
            "left": null
          }
        },
        "fcd2ec0014fa48dcb8f51096d5408f89": {
          "model_module": "@jupyter-widgets/controls",
          "model_name": "HBoxModel",
          "state": {
            "_view_name": "HBoxView",
            "_dom_classes": [],
            "_model_name": "HBoxModel",
            "_view_module": "@jupyter-widgets/controls",
            "_model_module_version": "1.5.0",
            "_view_count": null,
            "_view_module_version": "1.5.0",
            "box_style": "",
            "layout": "IPY_MODEL_3db616a1c2484b51951c49c78ff08131",
            "_model_module": "@jupyter-widgets/controls",
            "children": [
              "IPY_MODEL_59cc48d924f54cb58c2afed043fb2406",
              "IPY_MODEL_1f8dbe1910134367994227a8143680b1"
            ]
          }
        },
        "3db616a1c2484b51951c49c78ff08131": {
          "model_module": "@jupyter-widgets/base",
          "model_name": "LayoutModel",
          "state": {
            "_view_name": "LayoutView",
            "grid_template_rows": null,
            "right": null,
            "justify_content": null,
            "_view_module": "@jupyter-widgets/base",
            "overflow": null,
            "_model_module_version": "1.2.0",
            "_view_count": null,
            "flex_flow": null,
            "width": null,
            "min_width": null,
            "border": null,
            "align_items": null,
            "bottom": null,
            "_model_module": "@jupyter-widgets/base",
            "top": null,
            "grid_column": null,
            "overflow_y": null,
            "overflow_x": null,
            "grid_auto_flow": null,
            "grid_area": null,
            "grid_template_columns": null,
            "flex": null,
            "_model_name": "LayoutModel",
            "justify_items": null,
            "grid_row": null,
            "max_height": null,
            "align_content": null,
            "visibility": null,
            "align_self": null,
            "height": null,
            "min_height": null,
            "padding": null,
            "grid_auto_rows": null,
            "grid_gap": null,
            "max_width": null,
            "order": null,
            "_view_module_version": "1.2.0",
            "grid_template_areas": null,
            "object_position": null,
            "object_fit": null,
            "grid_auto_columns": null,
            "margin": null,
            "display": null,
            "left": null
          }
        },
        "59cc48d924f54cb58c2afed043fb2406": {
          "model_module": "@jupyter-widgets/controls",
          "model_name": "FloatProgressModel",
          "state": {
            "_view_name": "ProgressView",
            "style": "IPY_MODEL_b16f3a64816b4517b3f62450c9e8b64a",
            "_dom_classes": [],
            "description": "Downloading: 100%",
            "_model_name": "FloatProgressModel",
            "bar_style": "success",
            "max": 536063208,
            "_view_module": "@jupyter-widgets/controls",
            "_model_module_version": "1.5.0",
            "value": 536063208,
            "_view_count": null,
            "_view_module_version": "1.5.0",
            "orientation": "horizontal",
            "min": 0,
            "description_tooltip": null,
            "_model_module": "@jupyter-widgets/controls",
            "layout": "IPY_MODEL_a75f9226dcd94041be42d292581ac880"
          }
        },
        "1f8dbe1910134367994227a8143680b1": {
          "model_module": "@jupyter-widgets/controls",
          "model_name": "HTMLModel",
          "state": {
            "_view_name": "HTMLView",
            "style": "IPY_MODEL_53792910433f4883ae5dd969fda9a263",
            "_dom_classes": [],
            "description": "",
            "_model_name": "HTMLModel",
            "placeholder": "​",
            "_view_module": "@jupyter-widgets/controls",
            "_model_module_version": "1.5.0",
            "value": " 536M/536M [00:07&lt;00:00, 69.8MB/s]",
            "_view_count": null,
            "_view_module_version": "1.5.0",
            "description_tooltip": null,
            "_model_module": "@jupyter-widgets/controls",
            "layout": "IPY_MODEL_1f266ac3eeba4da7a3d075f4d5916844"
          }
        },
        "b16f3a64816b4517b3f62450c9e8b64a": {
          "model_module": "@jupyter-widgets/controls",
          "model_name": "ProgressStyleModel",
          "state": {
            "_view_name": "StyleView",
            "_model_name": "ProgressStyleModel",
            "description_width": "initial",
            "_view_module": "@jupyter-widgets/base",
            "_model_module_version": "1.5.0",
            "_view_count": null,
            "_view_module_version": "1.2.0",
            "bar_color": null,
            "_model_module": "@jupyter-widgets/controls"
          }
        },
        "a75f9226dcd94041be42d292581ac880": {
          "model_module": "@jupyter-widgets/base",
          "model_name": "LayoutModel",
          "state": {
            "_view_name": "LayoutView",
            "grid_template_rows": null,
            "right": null,
            "justify_content": null,
            "_view_module": "@jupyter-widgets/base",
            "overflow": null,
            "_model_module_version": "1.2.0",
            "_view_count": null,
            "flex_flow": null,
            "width": null,
            "min_width": null,
            "border": null,
            "align_items": null,
            "bottom": null,
            "_model_module": "@jupyter-widgets/base",
            "top": null,
            "grid_column": null,
            "overflow_y": null,
            "overflow_x": null,
            "grid_auto_flow": null,
            "grid_area": null,
            "grid_template_columns": null,
            "flex": null,
            "_model_name": "LayoutModel",
            "justify_items": null,
            "grid_row": null,
            "max_height": null,
            "align_content": null,
            "visibility": null,
            "align_self": null,
            "height": null,
            "min_height": null,
            "padding": null,
            "grid_auto_rows": null,
            "grid_gap": null,
            "max_width": null,
            "order": null,
            "_view_module_version": "1.2.0",
            "grid_template_areas": null,
            "object_position": null,
            "object_fit": null,
            "grid_auto_columns": null,
            "margin": null,
            "display": null,
            "left": null
          }
        },
        "53792910433f4883ae5dd969fda9a263": {
          "model_module": "@jupyter-widgets/controls",
          "model_name": "DescriptionStyleModel",
          "state": {
            "_view_name": "StyleView",
            "_model_name": "DescriptionStyleModel",
            "description_width": "",
            "_view_module": "@jupyter-widgets/base",
            "_model_module_version": "1.5.0",
            "_view_count": null,
            "_view_module_version": "1.2.0",
            "_model_module": "@jupyter-widgets/controls"
          }
        },
        "1f266ac3eeba4da7a3d075f4d5916844": {
          "model_module": "@jupyter-widgets/base",
          "model_name": "LayoutModel",
          "state": {
            "_view_name": "LayoutView",
            "grid_template_rows": null,
            "right": null,
            "justify_content": null,
            "_view_module": "@jupyter-widgets/base",
            "overflow": null,
            "_model_module_version": "1.2.0",
            "_view_count": null,
            "flex_flow": null,
            "width": null,
            "min_width": null,
            "border": null,
            "align_items": null,
            "bottom": null,
            "_model_module": "@jupyter-widgets/base",
            "top": null,
            "grid_column": null,
            "overflow_y": null,
            "overflow_x": null,
            "grid_auto_flow": null,
            "grid_area": null,
            "grid_template_columns": null,
            "flex": null,
            "_model_name": "LayoutModel",
            "justify_items": null,
            "grid_row": null,
            "max_height": null,
            "align_content": null,
            "visibility": null,
            "align_self": null,
            "height": null,
            "min_height": null,
            "padding": null,
            "grid_auto_rows": null,
            "grid_gap": null,
            "max_width": null,
            "order": null,
            "_view_module_version": "1.2.0",
            "grid_template_areas": null,
            "object_position": null,
            "object_fit": null,
            "grid_auto_columns": null,
            "margin": null,
            "display": null,
            "left": null
          }
        }
      }
    }
  },
  "cells": [
    {
      "cell_type": "markdown",
      "metadata": {
        "id": "NmNVcTiAhwfD",
        "colab_type": "text"
      },
      "source": [
        "[![Open In Colab](https://colab.research.google.com/assets/colab-badge.svg)](https://colab.research.google.com/github/tuanh118/uw-fsdl-bert-transfer-translation/blob/master/Notebook.ipynb)"
      ]
    },
    {
      "cell_type": "markdown",
      "metadata": {
        "id": "qCjQJgSsfzWg",
        "colab_type": "text"
      },
      "source": [
        "## Set up the Collab VM and import libraries.\n"
      ]
    },
    {
      "cell_type": "code",
      "metadata": {
        "id": "FKPCWTgXfzWX",
        "colab_type": "code",
        "outputId": "03bed799-2b40-4f27-e929-ec33b5c00413",
        "colab": {
          "base_uri": "https://localhost:8080/",
          "height": 808
        }
      },
      "source": [
        "# Hack to reference other files in the repo in Collab.\n",
        "!git clone https://github.com/tuanh118/uw-fsdl-bert-transfer-translation\n",
        "import sys\n",
        "sys.path.append('./uw-fsdl-bert-transfer-translation')\n",
        "\n",
        "# Install required packages.\n",
        "!pip install transformers\n",
        "\n",
        "%matplotlib inline\n",
        "import matplotlib.pyplot as plt\n",
        "import tensorflow as tf\n",
        "from transformers import *\n",
        "from sklearn.model_selection import train_test_split\n",
        "\n",
        "import io\n",
        "import os\n",
        "import time\n",
        "\n",
        "from CombinedBertTransformerModel import *\n",
        "from DatasetSequence import *\n",
        "from functools import partial\n",
        "from util import *"
      ],
      "execution_count": 1,
      "outputs": [
        {
          "output_type": "stream",
          "text": [
            "Cloning into 'uw-fsdl-bert-transfer-translation'...\n",
            "remote: Enumerating objects: 118, done.\u001b[K\n",
            "remote: Counting objects: 100% (118/118), done.\u001b[K\n",
            "remote: Compressing objects: 100% (96/96), done.\u001b[K\n",
            "remote: Total 118 (delta 50), reused 69 (delta 19), pack-reused 0\u001b[K\n",
            "Receiving objects: 100% (118/118), 1.53 MiB | 24.05 MiB/s, done.\n",
            "Resolving deltas: 100% (50/50), done.\n",
            "Collecting transformers\n",
            "\u001b[?25l  Downloading https://files.pythonhosted.org/packages/48/35/ad2c5b1b8f99feaaf9d7cdadaeef261f098c6e1a6a2935d4d07662a6b780/transformers-2.11.0-py3-none-any.whl (674kB)\n",
            "\u001b[K     |████████████████████████████████| 675kB 14.9MB/s \n",
            "\u001b[?25hRequirement already satisfied: requests in /usr/local/lib/python3.6/dist-packages (from transformers) (2.23.0)\n",
            "Collecting tokenizers==0.7.0\n",
            "\u001b[?25l  Downloading https://files.pythonhosted.org/packages/14/e5/a26eb4716523808bb0a799fcfdceb6ebf77a18169d9591b2f46a9adb87d9/tokenizers-0.7.0-cp36-cp36m-manylinux1_x86_64.whl (3.8MB)\n",
            "\u001b[K     |████████████████████████████████| 3.8MB 58.9MB/s \n",
            "\u001b[?25hRequirement already satisfied: tqdm>=4.27 in /usr/local/lib/python3.6/dist-packages (from transformers) (4.41.1)\n",
            "Requirement already satisfied: packaging in /usr/local/lib/python3.6/dist-packages (from transformers) (20.4)\n",
            "Requirement already satisfied: regex!=2019.12.17 in /usr/local/lib/python3.6/dist-packages (from transformers) (2019.12.20)\n",
            "Requirement already satisfied: filelock in /usr/local/lib/python3.6/dist-packages (from transformers) (3.0.12)\n",
            "Requirement already satisfied: numpy in /usr/local/lib/python3.6/dist-packages (from transformers) (1.18.4)\n",
            "Collecting sentencepiece\n",
            "\u001b[?25l  Downloading https://files.pythonhosted.org/packages/d4/a4/d0a884c4300004a78cca907a6ff9a5e9fe4f090f5d95ab341c53d28cbc58/sentencepiece-0.1.91-cp36-cp36m-manylinux1_x86_64.whl (1.1MB)\n",
            "\u001b[K     |████████████████████████████████| 1.1MB 58.8MB/s \n",
            "\u001b[?25hRequirement already satisfied: dataclasses; python_version < \"3.7\" in /usr/local/lib/python3.6/dist-packages (from transformers) (0.7)\n",
            "Collecting sacremoses\n",
            "\u001b[?25l  Downloading https://files.pythonhosted.org/packages/7d/34/09d19aff26edcc8eb2a01bed8e98f13a1537005d31e95233fd48216eed10/sacremoses-0.0.43.tar.gz (883kB)\n",
            "\u001b[K     |████████████████████████████████| 890kB 64.2MB/s \n",
            "\u001b[?25hRequirement already satisfied: certifi>=2017.4.17 in /usr/local/lib/python3.6/dist-packages (from requests->transformers) (2020.4.5.1)\n",
            "Requirement already satisfied: idna<3,>=2.5 in /usr/local/lib/python3.6/dist-packages (from requests->transformers) (2.9)\n",
            "Requirement already satisfied: chardet<4,>=3.0.2 in /usr/local/lib/python3.6/dist-packages (from requests->transformers) (3.0.4)\n",
            "Requirement already satisfied: urllib3!=1.25.0,!=1.25.1,<1.26,>=1.21.1 in /usr/local/lib/python3.6/dist-packages (from requests->transformers) (1.24.3)\n",
            "Requirement already satisfied: six in /usr/local/lib/python3.6/dist-packages (from packaging->transformers) (1.12.0)\n",
            "Requirement already satisfied: pyparsing>=2.0.2 in /usr/local/lib/python3.6/dist-packages (from packaging->transformers) (2.4.7)\n",
            "Requirement already satisfied: click in /usr/local/lib/python3.6/dist-packages (from sacremoses->transformers) (7.1.2)\n",
            "Requirement already satisfied: joblib in /usr/local/lib/python3.6/dist-packages (from sacremoses->transformers) (0.15.1)\n",
            "Building wheels for collected packages: sacremoses\n",
            "  Building wheel for sacremoses (setup.py) ... \u001b[?25l\u001b[?25hdone\n",
            "  Created wheel for sacremoses: filename=sacremoses-0.0.43-cp36-none-any.whl size=893260 sha256=3ca41706d828a6cc59e5cda636ec7026edba25a1d508ba940eaddf082b44c28b\n",
            "  Stored in directory: /root/.cache/pip/wheels/29/3c/fd/7ce5c3f0666dab31a50123635e6fb5e19ceb42ce38d4e58f45\n",
            "Successfully built sacremoses\n",
            "Installing collected packages: tokenizers, sentencepiece, sacremoses, transformers\n",
            "Successfully installed sacremoses-0.0.43 sentencepiece-0.1.91 tokenizers-0.7.0 transformers-2.11.0\n"
          ],
          "name": "stdout"
        }
      ]
    },
    {
      "cell_type": "markdown",
      "metadata": {
        "id": "AtvhmVW8hAdv",
        "colab_type": "text"
      },
      "source": [
        "## Data retrieval"
      ]
    },
    {
      "cell_type": "code",
      "metadata": {
        "id": "lKiRA9jVfzWh",
        "colab_type": "code",
        "outputId": "ccc8ca64-78ce-445b-cab1-a278ddead738",
        "colab": {
          "base_uri": "https://localhost:8080/",
          "height": 55
        }
      },
      "source": [
        "# Download the EuroParl French-English corpus.\n",
        "# Switch \"fr\" to \"es\" everywhere in the next 3 lines to learn Spanish instead of French.\n",
        "path_to_fr_en_tar = tf.keras.utils.get_file('fr-en.tgz', origin='https://www.statmt.org/europarl/v7/fr-en.tgz', extract=True)\n",
        "path_to_fr_en_en_file = os.path.dirname(path_to_fr_en_tar) + \"/europarl-v7.fr-en.en\"\n",
        "path_to_fr_en_fr_file = os.path.dirname(path_to_fr_en_tar) + \"/europarl-v7.fr-en.fr\"\n"
      ],
      "execution_count": 2,
      "outputs": [
        {
          "output_type": "stream",
          "text": [
            "Downloading data from https://www.statmt.org/europarl/v7/fr-en.tgz\n",
            "202719232/202718517 [==============================] - 46s 0us/step\n"
          ],
          "name": "stdout"
        }
      ]
    },
    {
      "cell_type": "markdown",
      "metadata": {
        "colab_type": "text",
        "id": "wlQGXSx-7tj_"
      },
      "source": [
        "## Data processing"
      ]
    },
    {
      "cell_type": "code",
      "metadata": {
        "colab_type": "code",
        "outputId": "34cd3120-ee9b-4882-df61-69447de944e4",
        "id": "jG76mcdq7tkB",
        "colab": {
          "base_uri": "https://localhost:8080/",
          "height": 1000,
          "referenced_widgets": [
            "77960b13bca64d02a1c1db7064d155d7",
            "91f6762c41de465c944453e6450b8a3b",
            "11290603263a463487720280e65e935f",
            "2688a8e4e40e498190676c4523490142",
            "7e89a594906249faae90f03610759642",
            "45c31e65e978489ca381613c4ef43bd6",
            "34da1844c01749368c8d3fab621a452c",
            "b92ec517320c45e0a1e2bb7ce77a160c"
          ]
        }
      },
      "source": [
        "# Given a path to a text file, load and tokenize each line using the provided tokenizer, then convert each token to an ID and pad all lines to have length max_tokens.\n",
        "def load_dataset(language_path, tokenizer, num_examples=None, max_tokens=500):\n",
        "    # Read the data.\n",
        "    lines = io.open(language_path, encoding='UTF-8').read().strip().splitlines()[:num_examples]\n",
        "\n",
        "    # Tokenize each line, adding the special start and end tokens.\n",
        "    tokenized_lines = [ [tokenizer.cls_token] + tokenizer.tokenize(line)[:max_tokens-2] + [tokenizer.sep_token] for line in lines ]\n",
        "    \n",
        "    # Convert tokens to IDs.\n",
        "    ids = [ tokenizer.convert_tokens_to_ids(tokenized_line) for tokenized_line in tokenized_lines ]\n",
        "\n",
        "    # Pad all ID sequences to the maximum length with zeroes.\n",
        "    ids = tf.keras.preprocessing.sequence.pad_sequences(ids, value=tokenizer.pad_token_id, maxlen=max_tokens, truncating=\"post\", padding=\"post\")\n",
        "\n",
        "    return ids\n",
        "\n",
        "BATCH_SIZE = 64\n",
        "d_model = 128\n",
        "num_examples = BATCH_SIZE * 500\n",
        "max_tokens = 200\n",
        "tokenizer = instantiate_tokenizer()\n",
        "vocab_size = len(tokenizer.vocab)\n",
        "\n",
        "input_tensor = load_dataset(path_to_fr_en_en_file, tokenizer, num_examples, max_tokens)\n",
        "target_tensor = load_dataset(path_to_fr_en_fr_file, tokenizer, num_examples, max_tokens)\n",
        "\n",
        "# Split the data into training and validation sets.  No test set for now since we're just experimenting.\n",
        "input_tensor_train, input_tensor_val, target_tensor_train, target_tensor_val = train_test_split(input_tensor, target_tensor, test_size=0.2)\n",
        "\n",
        "# Do some printing to show that the processing worked.\n",
        "def convert(tokenizer, tensor):\n",
        "    for t in tensor:\n",
        "        if t != 0:\n",
        "            print(\"%d ----> %s\" % (t, tokenizer.ids_to_tokens[t]))\n",
        "\n",
        "print(\"ID to token mapping for first training example (input)\")\n",
        "convert(tokenizer, input_tensor_train[0])\n",
        "print()\n",
        "print(\"ID to token mapping for first training example (target)\")\n",
        "convert(tokenizer, target_tensor_train[0])\n",
        "\n",
        "def format_batch(x, y):\n",
        "    \"\"\"\n",
        "    Inputs are x and y up to the last character.\n",
        "    Outputs are y from first character (shifted).\n",
        "    \"\"\"\n",
        "    return [x, y[:, :-1]], y[:, 1:]\n",
        "\n",
        "train_dataset = DatasetSequence(input_tensor_train, target_tensor_train, batch_size=BATCH_SIZE, format_fn=format_batch)\n",
        "validation_dataset = DatasetSequence(input_tensor_val, target_tensor_val, batch_size=BATCH_SIZE, format_fn=format_batch)"
      ],
      "execution_count": 3,
      "outputs": [
        {
          "output_type": "display_data",
          "data": {
            "application/vnd.jupyter.widget-view+json": {
              "model_id": "77960b13bca64d02a1c1db7064d155d7",
              "version_minor": 0,
              "version_major": 2
            },
            "text/plain": [
              "HBox(children=(FloatProgress(value=0.0, description='Downloading', max=231508.0, style=ProgressStyle(descripti…"
            ]
          },
          "metadata": {
            "tags": []
          }
        },
        {
          "output_type": "stream",
          "text": [
            "\n",
            "ID to token mapping for first training example (input)\n",
            "101 ----> [CLS]\n",
            "16378 ----> secondly\n",
            "1010 ----> ,\n",
            "1045 ----> i\n",
            "2323 ----> should\n",
            "2036 ----> also\n",
            "2066 ----> like\n",
            "2000 ----> to\n",
            "3602 ----> note\n",
            "2008 ----> that\n",
            "1010 ----> ,\n",
            "13644 ----> broadly\n",
            "4092 ----> speaking\n",
            "1010 ----> ,\n",
            "2026 ----> my\n",
            "2177 ----> group\n",
            "6753 ----> supports\n",
            "1996 ----> the\n",
            "5292 ----> ha\n",
            "4232 ----> ##ard\n",
            "2121 ----> ##er\n",
            "3189 ----> report\n",
            "1998 ----> and\n",
            "4671 ----> express\n",
            "2135 ----> ##ly\n",
            "11637 ----> highlights\n",
            "1996 ----> the\n",
            "2755 ----> fact\n",
            "2008 ----> that\n",
            "2045 ----> there\n",
            "2001 ----> was\n",
            "6581 ----> excellent\n",
            "6792 ----> cooperation\n",
            "2007 ----> with\n",
            "1996 ----> the\n",
            "9680 ----> rap\n",
            "6442 ----> ##port\n",
            "11236 ----> ##eur\n",
            "1012 ----> .\n",
            "102 ----> [SEP]\n",
            "\n",
            "ID to token mapping for first training example (target)\n",
            "101 ----> [CLS]\n",
            "15333 ----> je\n",
            "29536 ----> vo\n",
            "6784 ----> ##ud\n",
            "14995 ----> ##rai\n",
            "2015 ----> ##s\n",
            "4372 ----> en\n",
            "28880 ----> ##suit\n",
            "2063 ----> ##e\n",
            "4189 ----> fair\n",
            "2063 ----> ##e\n",
            "2128 ----> re\n",
            "7849 ----> ##mar\n",
            "4226 ----> ##que\n",
            "2099 ----> ##r\n",
            "10861 ----> que\n",
            "12256 ----> mon\n",
            "2177 ----> group\n",
            "2063 ----> ##e\n",
            "14955 ----> pol\n",
            "25090 ----> ##iti\n",
            "4226 ----> ##que\n",
            "2061 ----> so\n",
            "21823 ----> ##uti\n",
            "4765 ----> ##ent\n",
            "3795 ----> global\n",
            "13665 ----> ##ement\n",
            "3393 ----> le\n",
            "9680 ----> rap\n",
            "6442 ----> ##port\n",
            "5292 ----> ha\n",
            "4232 ----> ##ard\n",
            "2121 ----> ##er\n",
            "3802 ----> et\n",
            "18292 ----> insist\n",
            "2063 ----> ##e\n",
            "7505 ----> sur\n",
            "3393 ----> le\n",
            "26208 ----> fai\n",
            "2102 ----> ##t\n",
            "10861 ----> que\n",
            "2474 ----> la\n",
            "5792 ----> collaboration\n",
            "13642 ----> ave\n",
            "2278 ----> ##c\n",
            "3393 ----> le\n",
            "9680 ----> rap\n",
            "6442 ----> ##port\n",
            "11236 ----> ##eur\n",
            "1037 ----> a\n",
            "3802 ----> et\n",
            "2063 ----> ##e\n",
            "6581 ----> excellent\n",
            "2063 ----> ##e\n",
            "1012 ----> .\n",
            "102 ----> [SEP]\n"
          ],
          "name": "stdout"
        }
      ]
    },
    {
      "cell_type": "markdown",
      "metadata": {
        "colab_type": "text",
        "id": "-QqZ3lFo7rwW"
      },
      "source": [
        "## Model preparation"
      ]
    },
    {
      "cell_type": "code",
      "metadata": {
        "colab_type": "code",
        "outputId": "ae6274da-750c-4e1f-9da6-2374c6e2b284",
        "id": "3FxkpKzR7rwZ",
        "colab": {
          "base_uri": "https://localhost:8080/",
          "height": 532,
          "referenced_widgets": [
            "dae9869c0c074975bc70feab263c8f71",
            "f99977f451314b30b312fe96075470e9",
            "7d4ba4c217cd4717897469ca289d7272",
            "26878c4e1bbe4981a9e9dcba1a027203",
            "1aca7d6125dc4098a9af2252cefa66aa",
            "81ecc12edba5493788613170a2f92cf5",
            "6705365c584949ac836570685568e194",
            "3300b3ce71b041fe94fccd26e9836350",
            "fcd2ec0014fa48dcb8f51096d5408f89",
            "3db616a1c2484b51951c49c78ff08131",
            "59cc48d924f54cb58c2afed043fb2406",
            "1f8dbe1910134367994227a8143680b1",
            "b16f3a64816b4517b3f62450c9e8b64a",
            "a75f9226dcd94041be42d292581ac880",
            "53792910433f4883ae5dd969fda9a263",
            "1f266ac3eeba4da7a3d075f4d5916844"
          ]
        }
      },
      "source": [
        "# Prepare training: Compile tf.keras model with optimizer, loss and learning rate schedule\n",
        "learning_rate = CustomSchedule(d_model=d_model)\n",
        "optimizer = tf.keras.optimizers.Adam(learning_rate, beta_1=0.9, beta_2=0.98, epsilon=1e-9)\n",
        "\n",
        "loss = partial(sparse_categorical_crossentropy_ignoring_padding, padding_label=0)\n",
        "loss.__name__ = 'loss'\n",
        "accuracy = partial(sparse_categorical_accuracy_ignoring_padding, padding_label=0)\n",
        "accuracy.__name__ = 'accuracy'\n",
        "\n",
        "model = CombinedBertTransformerModel(\n",
        "    max_tokens=max_tokens,\n",
        "    vocab_size=vocab_size,\n",
        "    num_layers=4,\n",
        "    units=32,\n",
        "    d_model=d_model,\n",
        "    num_heads=4,\n",
        "    dropout=0,\n",
        "    padding_label=tokenizer.pad_token_id\n",
        ")\n",
        "model.compile(optimizer=optimizer, loss=loss, metrics=[accuracy])\n",
        "model.summary()"
      ],
      "execution_count": 4,
      "outputs": [
        {
          "output_type": "display_data",
          "data": {
            "application/vnd.jupyter.widget-view+json": {
              "model_id": "dae9869c0c074975bc70feab263c8f71",
              "version_minor": 0,
              "version_major": 2
            },
            "text/plain": [
              "HBox(children=(FloatProgress(value=0.0, description='Downloading', max=433.0, style=ProgressStyle(description_…"
            ]
          },
          "metadata": {
            "tags": []
          }
        },
        {
          "output_type": "stream",
          "text": [
            "\n"
          ],
          "name": "stdout"
        },
        {
          "output_type": "display_data",
          "data": {
            "application/vnd.jupyter.widget-view+json": {
              "model_id": "fcd2ec0014fa48dcb8f51096d5408f89",
              "version_minor": 0,
              "version_major": 2
            },
            "text/plain": [
              "HBox(children=(FloatProgress(value=0.0, description='Downloading', max=536063208.0, style=ProgressStyle(descri…"
            ]
          },
          "metadata": {
            "tags": []
          }
        },
        {
          "output_type": "stream",
          "text": [
            "\n",
            "Model: \"model\"\n",
            "__________________________________________________________________________________________________\n",
            "Layer (type)                    Output Shape         Param #     Connected to                     \n",
            "==================================================================================================\n",
            "tokenized_output_sentence (Inpu [(None, 200)]        0                                            \n",
            "__________________________________________________________________________________________________\n",
            "tokenized_input_sentence (Input [(None, 200)]        0                                            \n",
            "__________________________________________________________________________________________________\n",
            "tf_bert_model (TFBertModel)     ((None, 200, 768), ( 109482240   tokenized_input_sentence[0][0]   \n",
            "__________________________________________________________________________________________________\n",
            "look_ahead_mask (Lambda)        (None, 1, None, 200) 0           tokenized_output_sentence[0][0]  \n",
            "__________________________________________________________________________________________________\n",
            "decoder (Model)                 multiple             5127040     tokenized_output_sentence[0][0]  \n",
            "                                                                 tf_bert_model[0][0]              \n",
            "                                                                 look_ahead_mask[0][0]            \n",
            "__________________________________________________________________________________________________\n",
            "outputs (Dense)                 (None, 200, 30522)   3937338     decoder[1][0]                    \n",
            "==================================================================================================\n",
            "Total params: 118,546,618\n",
            "Trainable params: 9,064,378\n",
            "Non-trainable params: 109,482,240\n",
            "__________________________________________________________________________________________________\n"
          ],
          "name": "stdout"
        }
      ]
    },
    {
      "cell_type": "markdown",
      "metadata": {
        "colab_type": "text",
        "id": "xJcFhGNI7-JW"
      },
      "source": [
        "## Model training"
      ]
    },
    {
      "cell_type": "code",
      "metadata": {
        "colab_type": "code",
        "outputId": "0519ea5d-3da1-406b-ecdc-862330ef4163",
        "id": "f_6BZGmR7HlO",
        "colab": {
          "base_uri": "https://localhost:8080/",
          "height": 55
        }
      },
      "source": [
        "# Uncomment this line to load pre-trained weights from a previous run.\n",
        "#model.load_weights('checkpoint_en_fr_20200531151710')\n",
        "\n",
        "# Train and evaluate the model using tf.keras.Model.fit()\n",
        "history = model.fit(\n",
        "    train_dataset,\n",
        "    validation_data=validation_dataset,\n",
        "    use_multiprocessing=False,\n",
        "    workers=1,\n",
        "    shuffle=True,\n",
        "    epochs=10\n",
        ")"
      ],
      "execution_count": 0,
      "outputs": [
        {
          "output_type": "stream",
          "text": [
            "Epoch 1/10\n",
            " 81/400 [=====>........................] - ETA: 8:50 - loss: 2.7077 - accuracy: 0.7376"
          ],
          "name": "stdout"
        }
      ]
    },
    {
      "cell_type": "code",
      "metadata": {
        "id": "YmZR5ToA2ddm",
        "colab_type": "code",
        "colab": {}
      },
      "source": [
        "# Save the training history and learned parameters for later examination.\n",
        "import datetime\n",
        "import pickle\n",
        "\n",
        "timestamp = datetime.datetime.now().strftime('%Y%m%d%H%M%S')\n",
        "with open('history_en_fr_' + timestamp, 'wb') as history_file:\n",
        "    pickle.dump(history.history, history_file)\n",
        "model.save_weights('checkpoint_en_fr_' + timestamp)"
      ],
      "execution_count": 0,
      "outputs": []
    }
  ]
}